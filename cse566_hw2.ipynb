{
  "nbformat": 4,
  "nbformat_minor": 0,
  "metadata": {
    "colab": {
      "name": "cse566_hw2.ipynb",
      "provenance": [],
      "collapsed_sections": [],
      "include_colab_link": true
    },
    "kernelspec": {
      "name": "python3",
      "display_name": "Python 3"
    }
  },
  "cells": [
    {
      "cell_type": "markdown",
      "metadata": {
        "id": "view-in-github",
        "colab_type": "text"
      },
      "source": [
        "<a href=\"https://colab.research.google.com/github/erenay93/CSE566_Machine_Learning/blob/master/cse566_hw2.ipynb\" target=\"_parent\"><img src=\"https://colab.research.google.com/assets/colab-badge.svg\" alt=\"Open In Colab\"/></a>"
      ]
    },
    {
      "cell_type": "code",
      "metadata": {
        "id": "_MKz-CVPV_Ff",
        "colab_type": "code",
        "colab": {}
      },
      "source": [
        "# 1.14 0\n",
        "# 1.22 0\n",
        "# 1.18 0\n",
        "# 1.34 0\n",
        "# 1.24 0\n",
        "# 2.12 1\n",
        "# 2.36 1\n",
        "# 1.86 1\n",
        "# 1.64 1\n",
        "# 2.92 1"
      ],
      "execution_count": 0,
      "outputs": []
    },
    {
      "cell_type": "code",
      "metadata": {
        "id": "WF0WRISKWW84",
        "colab_type": "code",
        "colab": {
          "base_uri": "https://localhost:8080/",
          "height": 265
        },
        "outputId": "600b0cfc-5493-4c68-c500-85c502e5ed90"
      },
      "source": [
        "import matplotlib.pyplot as plt\n",
        "import numpy as np\n",
        "import matplotlib.patches as patches\n",
        "data_file = open('data.txt', 'r')\n",
        "data_file_lines = data_file.readlines()\n",
        "\n",
        "\n",
        "data = {'x':[],'y':[],'class':[]}\n",
        "for i in range(9):\n",
        "  s = data_file_lines[i+1].replace('\\n','').split(' ')\n",
        "  data['x'].append(s[0])\n",
        "  data['class'].append(s[1])\n",
        "  plt.plot(float(s[0]),0,'go' if s[1]=='1' else 'bo')\n",
        "plt.show()"
      ],
      "execution_count": 14,
      "outputs": [
        {
          "output_type": "display_data",
          "data": {
            "image/png": "[encoded data removed]",
            "text/plain": [
              "<Figure size 432x288 with 1 Axes>"
            ]
          },
          "metadata": {
            "tags": []
          }
        }
      ]
    }
  ]
}