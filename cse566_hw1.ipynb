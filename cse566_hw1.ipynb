{
  "nbformat": 4,
  "nbformat_minor": 0,
  "metadata": {
    "colab": {
      "name": "cse566_hw1.ipynb",
      "provenance": [],
      "collapsed_sections": [],
      "include_colab_link": true
    },
    "kernelspec": {
      "name": "python3",
      "display_name": "Python 3"
    }
  },
  "cells": [
    {
      "cell_type": "markdown",
      "metadata": {
        "id": "view-in-github",
        "colab_type": "text"
      },
      "source": [
        "<a href=\"https://colab.research.google.com/github/erenay93/CSE566_Machine_Learning/blob/master/cse566_hw1.ipynb\" target=\"_parent\"><img src=\"https://colab.research.google.com/assets/colab-badge.svg\" alt=\"Open In Colab\"/></a>"
      ]
    },
    {
      "cell_type": "code",
      "metadata": {
        "id": "wE7s5Lg4BAaf",
        "colab_type": "code",
        "outputId": "cd45d4a4-8848-4e61-ff6e-8d57c84b853b",
        "colab": {
          "base_uri": "https://localhost:8080/",
          "height": 208
        }
      },
      "source": [
        "import matplotlib.pyplot as plt\n",
        "import numpy as np\n",
        "import matplotlib.patches as patches\n",
        "data_file = open('data.txt', 'r')\n",
        "data_file_lines = data_file.readlines()\n",
        "\n",
        "sample_size = int(data_file_lines[0].replace('\\n',''))\n",
        "data = {'x':[],'y':[],'class':[]}\n",
        "data_list = []\n",
        "data_class_1 = []\n",
        "\n",
        "fig1 = plt.figure()\n",
        "ax1 = fig1.add_subplot(111, aspect='equal')\n",
        "\n",
        "\n",
        "for i in range(sample_size):\n",
        "  s = data_file_lines[i+1].replace('\\n','').split(' ')\n",
        "  data['x'].append(s[0])\n",
        "  data['y'].append(s[1])\n",
        "  data['class'].append(s[2])\n",
        "  if s[2] == '1':\n",
        "    data_class_1.append([s[0],s[1],s[2]])\n",
        "  data_list.append({'x':s[0], 'y':s[1], 'class':s[2]})\n",
        "  ax1.plot(float(s[0]),float(s[1]),'go' if s[2]=='1' else 'bo')\n",
        "\n",
        "\n",
        "smallest_i_x = float(data_class_1[0][0])\n",
        "smallest_i_y = float(data_class_1[0][1])\n",
        "biggest_i_x = float(data_class_1[0][0])\n",
        "biggest_i_y = float(data_class_1[0][1])\n",
        "\n",
        "\n",
        "for k in data_class_1:\n",
        "  if float(k[0])<float(smallest_i_x):\n",
        "    smallest_i_x = float(k[0])\n",
        "  if float(k[1])<float(smallest_i_y):\n",
        "    smallest_i_y = float(k[1])\n",
        "  if float(k[0])>float(biggest_i_x):\n",
        "    biggest_i_x = float(k[0])\n",
        "  if float(k[1])>float(biggest_i_y):\n",
        "    biggest_i_y = float(k[1])\n",
        "h = (biggest_i_y-smallest_i_y)\n",
        "w = (biggest_i_x-smallest_i_x)\n",
        "\n",
        "\n",
        "general = patches.Rectangle((smallest_i_y,smallest_i_x),w,h,linewidth=1,edgecolor='r',facecolor='none')\n",
        "ax1.add_patch(general)\n",
        "plt.show()"
      ],
      "execution_count": 37,
      "outputs": [
        {
          "output_type": "display_data",
          "data": {
            "image/png": "[encoded data removed]",
            "text/plain": [
              "<Figure size 432x288 with 1 Axes>"
            ]
          },
          "metadata": {
            "tags": []
          }
        }
      ]
    }
  ]
}